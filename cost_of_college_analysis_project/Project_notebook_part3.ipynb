{
 "cells": [
  {
   "cell_type": "markdown",
   "id": "d37e394a",
   "metadata": {},
   "source": [
    "# Is U.S. College Worth the Cost?\n",
    "\n",
    "### Data Questions:\n",
    "\n",
    "**This notebook utilizes the x dataset to answer the questions:**\n",
    "* Question 1: What is the relationship between the level of student debt and the ownership of the university? (e.g., private, public).\n",
    "* Question 2:  In which states students have the highest level of debt relative to household income?\n",
    "\n",
    "### Overview\n",
    "Over the past two decades, college tuition pricing has increased more than any other good or service in the US besides hospital services, outstripping average inflation by 3x. This has impacted the affordability of education and led to an increase in student debt load to record highs. These trends have also given rise to many fundamental questions such as: “Is college worth the cost?”. \n",
    "\n",
    "In this notebook we aim to provide data-driven insights into the current state of U.S. colleges by analyzing the cost of attendance as well as student’s financial debt and potential earnings after graduation.\n",
    "\n",
    "### Resource Links\n",
    "\n",
    "**GitHub repository:**  https://github.com/UC-Berkeley-I-School/Project2_Kenney_Rueda_Higgins\n",
    " \n",
    "**Dataset:**  https://ed-public-download.app.cloud.gov/downloads/Most-Recent-Cohorts-Institution_09012022.zip\n",
    "\n",
    "**Source:**  U.S. College data by Institution: https://collegescorecard.ed.gov/data/"
   ]
  },
  {
   "cell_type": "markdown",
   "id": "4f1728fb",
   "metadata": {},
   "source": [
    "# Imports"
   ]
  },
  {
   "cell_type": "code",
   "execution_count": 236,
   "id": "d011da30-5836-4f9d-876e-c0e93fffac1f",
   "metadata": {},
   "outputs": [],
   "source": [
    "import pandas as pd\n",
    "import numpy as np\n",
    "import matplotlib.pyplot as plt\n",
    "import pylab as pl\n",
    "from matplotlib.pyplot import figure\n",
    "import statistics"
   ]
  },
  {
   "cell_type": "markdown",
   "id": "ec12ceb8",
   "metadata": {},
   "source": [
    "# Part A: Load the Data\n",
    "Changes applied to dataset:\n",
    "* Keep only variables of interest"
   ]
  },
  {
   "cell_type": "code",
   "execution_count": 248,
   "id": "afba03db-2507-42c3-907c-07954f232f3d",
   "metadata": {
    "tags": []
   },
   "outputs": [],
   "source": [
    "college_df_raw = pd.read_csv('Most-Recent-Cohorts-Institution.csv', low_memory=False)"
   ]
  },
  {
   "cell_type": "code",
   "execution_count": 249,
   "id": "5547868c-4388-4aa2-b118-c2e27f3a6a93",
   "metadata": {
    "tags": []
   },
   "outputs": [
    {
     "name": "stdout",
     "output_type": "stream",
     "text": [
      "Number of Rows in Most-Recent-Cohorts-Institution.csv: 6681\n",
      "\n",
      "First 5 rows:\n"
     ]
    },
    {
     "data": {
      "text/html": [
       "<div>\n",
       "<style scoped>\n",
       "    .dataframe tbody tr th:only-of-type {\n",
       "        vertical-align: middle;\n",
       "    }\n",
       "\n",
       "    .dataframe tbody tr th {\n",
       "        vertical-align: top;\n",
       "    }\n",
       "\n",
       "    .dataframe thead th {\n",
       "        text-align: right;\n",
       "    }\n",
       "</style>\n",
       "<table border=\"1\" class=\"dataframe\">\n",
       "  <thead>\n",
       "    <tr style=\"text-align: right;\">\n",
       "      <th></th>\n",
       "      <th>UNITID</th>\n",
       "      <th>OPEID</th>\n",
       "      <th>OPEID6</th>\n",
       "      <th>INSTNM</th>\n",
       "      <th>CITY</th>\n",
       "      <th>STABBR</th>\n",
       "      <th>ZIP</th>\n",
       "      <th>ACCREDAGENCY</th>\n",
       "      <th>INSTURL</th>\n",
       "      <th>NPCURL</th>\n",
       "      <th>...</th>\n",
       "      <th>COUNT_WNE_MALE1_P8</th>\n",
       "      <th>MD_EARN_WNE_MALE1_P8</th>\n",
       "      <th>GT_THRESHOLD_P10</th>\n",
       "      <th>MD_EARN_WNE_INC1_P10</th>\n",
       "      <th>MD_EARN_WNE_INC2_P10</th>\n",
       "      <th>MD_EARN_WNE_INC3_P10</th>\n",
       "      <th>MD_EARN_WNE_INDEP1_P10</th>\n",
       "      <th>MD_EARN_WNE_INDEP0_P10</th>\n",
       "      <th>MD_EARN_WNE_MALE0_P10</th>\n",
       "      <th>MD_EARN_WNE_MALE1_P10</th>\n",
       "    </tr>\n",
       "  </thead>\n",
       "  <tbody>\n",
       "    <tr>\n",
       "      <th>0</th>\n",
       "      <td>100654</td>\n",
       "      <td>100200.0</td>\n",
       "      <td>1002.0</td>\n",
       "      <td>Alabama A &amp; M University</td>\n",
       "      <td>Normal</td>\n",
       "      <td>AL</td>\n",
       "      <td>35762</td>\n",
       "      <td>Southern Association of Colleges and Schools C...</td>\n",
       "      <td>www.aamu.edu/</td>\n",
       "      <td>www.aamu.edu/admissions-aid/tuition-fees/net-p...</td>\n",
       "      <td>...</td>\n",
       "      <td>834.0</td>\n",
       "      <td>36639.0</td>\n",
       "      <td>0.6044</td>\n",
       "      <td>34076.0</td>\n",
       "      <td>35597.0</td>\n",
       "      <td>43145.0</td>\n",
       "      <td>40299.0</td>\n",
       "      <td>35424.0</td>\n",
       "      <td>36050.0</td>\n",
       "      <td>36377.0</td>\n",
       "    </tr>\n",
       "    <tr>\n",
       "      <th>1</th>\n",
       "      <td>100663</td>\n",
       "      <td>105200.0</td>\n",
       "      <td>1052.0</td>\n",
       "      <td>University of Alabama at Birmingham</td>\n",
       "      <td>Birmingham</td>\n",
       "      <td>AL</td>\n",
       "      <td>35294-0110</td>\n",
       "      <td>Southern Association of Colleges and Schools C...</td>\n",
       "      <td>https://www.uab.edu/</td>\n",
       "      <td>https://tcc.ruffalonl.com/University of Alabam...</td>\n",
       "      <td>...</td>\n",
       "      <td>1233.0</td>\n",
       "      <td>49652.0</td>\n",
       "      <td>0.7472</td>\n",
       "      <td>42254.0</td>\n",
       "      <td>49817.0</td>\n",
       "      <td>51571.0</td>\n",
       "      <td>48182.0</td>\n",
       "      <td>46435.0</td>\n",
       "      <td>42007.0</td>\n",
       "      <td>56164.0</td>\n",
       "    </tr>\n",
       "    <tr>\n",
       "      <th>2</th>\n",
       "      <td>100690</td>\n",
       "      <td>2503400.0</td>\n",
       "      <td>25034.0</td>\n",
       "      <td>Amridge University</td>\n",
       "      <td>Montgomery</td>\n",
       "      <td>AL</td>\n",
       "      <td>36117-3553</td>\n",
       "      <td>Southern Association of Colleges and Schools C...</td>\n",
       "      <td>www.amridgeuniversity.edu/</td>\n",
       "      <td>www2.amridgeuniversity.edu:9091/</td>\n",
       "      <td>...</td>\n",
       "      <td>78.0</td>\n",
       "      <td>50355.0</td>\n",
       "      <td>0.6286</td>\n",
       "      <td>36636.0</td>\n",
       "      <td>44836.0</td>\n",
       "      <td>NaN</td>\n",
       "      <td>39040.0</td>\n",
       "      <td>NaN</td>\n",
       "      <td>32311.0</td>\n",
       "      <td>49599.0</td>\n",
       "    </tr>\n",
       "    <tr>\n",
       "      <th>3</th>\n",
       "      <td>100706</td>\n",
       "      <td>105500.0</td>\n",
       "      <td>1055.0</td>\n",
       "      <td>University of Alabama in Huntsville</td>\n",
       "      <td>Huntsville</td>\n",
       "      <td>AL</td>\n",
       "      <td>35899</td>\n",
       "      <td>Southern Association of Colleges and Schools C...</td>\n",
       "      <td>www.uah.edu/</td>\n",
       "      <td>finaid.uah.edu/</td>\n",
       "      <td>...</td>\n",
       "      <td>891.0</td>\n",
       "      <td>57542.0</td>\n",
       "      <td>0.7769</td>\n",
       "      <td>49469.0</td>\n",
       "      <td>60533.0</td>\n",
       "      <td>57411.0</td>\n",
       "      <td>56884.0</td>\n",
       "      <td>53803.0</td>\n",
       "      <td>45170.0</td>\n",
       "      <td>66070.0</td>\n",
       "    </tr>\n",
       "    <tr>\n",
       "      <th>4</th>\n",
       "      <td>100724</td>\n",
       "      <td>100500.0</td>\n",
       "      <td>1005.0</td>\n",
       "      <td>Alabama State University</td>\n",
       "      <td>Montgomery</td>\n",
       "      <td>AL</td>\n",
       "      <td>36104-0271</td>\n",
       "      <td>Southern Association of Colleges and Schools C...</td>\n",
       "      <td>www.alasu.edu/</td>\n",
       "      <td>www.alasu.edu/cost-aid/tuition-costs/net-price...</td>\n",
       "      <td>...</td>\n",
       "      <td>1077.0</td>\n",
       "      <td>32797.0</td>\n",
       "      <td>0.5178</td>\n",
       "      <td>30634.0</td>\n",
       "      <td>34533.0</td>\n",
       "      <td>38216.0</td>\n",
       "      <td>30602.0</td>\n",
       "      <td>32364.0</td>\n",
       "      <td>29836.0</td>\n",
       "      <td>35315.0</td>\n",
       "    </tr>\n",
       "  </tbody>\n",
       "</table>\n",
       "<p>5 rows × 2989 columns</p>\n",
       "</div>"
      ],
      "text/plain": [
       "   UNITID      OPEID   OPEID6                               INSTNM  \\\n",
       "0  100654   100200.0   1002.0             Alabama A & M University   \n",
       "1  100663   105200.0   1052.0  University of Alabama at Birmingham   \n",
       "2  100690  2503400.0  25034.0                   Amridge University   \n",
       "3  100706   105500.0   1055.0  University of Alabama in Huntsville   \n",
       "4  100724   100500.0   1005.0             Alabama State University   \n",
       "\n",
       "         CITY STABBR         ZIP  \\\n",
       "0      Normal     AL       35762   \n",
       "1  Birmingham     AL  35294-0110   \n",
       "2  Montgomery     AL  36117-3553   \n",
       "3  Huntsville     AL       35899   \n",
       "4  Montgomery     AL  36104-0271   \n",
       "\n",
       "                                        ACCREDAGENCY  \\\n",
       "0  Southern Association of Colleges and Schools C...   \n",
       "1  Southern Association of Colleges and Schools C...   \n",
       "2  Southern Association of Colleges and Schools C...   \n",
       "3  Southern Association of Colleges and Schools C...   \n",
       "4  Southern Association of Colleges and Schools C...   \n",
       "\n",
       "                      INSTURL  \\\n",
       "0               www.aamu.edu/   \n",
       "1        https://www.uab.edu/   \n",
       "2  www.amridgeuniversity.edu/   \n",
       "3                www.uah.edu/   \n",
       "4              www.alasu.edu/   \n",
       "\n",
       "                                              NPCURL  ...  COUNT_WNE_MALE1_P8  \\\n",
       "0  www.aamu.edu/admissions-aid/tuition-fees/net-p...  ...               834.0   \n",
       "1  https://tcc.ruffalonl.com/University of Alabam...  ...              1233.0   \n",
       "2                   www2.amridgeuniversity.edu:9091/  ...                78.0   \n",
       "3                                    finaid.uah.edu/  ...               891.0   \n",
       "4  www.alasu.edu/cost-aid/tuition-costs/net-price...  ...              1077.0   \n",
       "\n",
       "   MD_EARN_WNE_MALE1_P8  GT_THRESHOLD_P10  MD_EARN_WNE_INC1_P10  \\\n",
       "0               36639.0            0.6044               34076.0   \n",
       "1               49652.0            0.7472               42254.0   \n",
       "2               50355.0            0.6286               36636.0   \n",
       "3               57542.0            0.7769               49469.0   \n",
       "4               32797.0            0.5178               30634.0   \n",
       "\n",
       "   MD_EARN_WNE_INC2_P10  MD_EARN_WNE_INC3_P10  MD_EARN_WNE_INDEP1_P10  \\\n",
       "0               35597.0               43145.0                 40299.0   \n",
       "1               49817.0               51571.0                 48182.0   \n",
       "2               44836.0                   NaN                 39040.0   \n",
       "3               60533.0               57411.0                 56884.0   \n",
       "4               34533.0               38216.0                 30602.0   \n",
       "\n",
       "   MD_EARN_WNE_INDEP0_P10  MD_EARN_WNE_MALE0_P10  MD_EARN_WNE_MALE1_P10  \n",
       "0                 35424.0                36050.0                36377.0  \n",
       "1                 46435.0                42007.0                56164.0  \n",
       "2                     NaN                32311.0                49599.0  \n",
       "3                 53803.0                45170.0                66070.0  \n",
       "4                 32364.0                29836.0                35315.0  \n",
       "\n",
       "[5 rows x 2989 columns]"
      ]
     },
     "execution_count": 249,
     "metadata": {},
     "output_type": "execute_result"
    }
   ],
   "source": [
    "print(f\"Number of Rows in Most-Recent-Cohorts-Institution.csv: {len(college_df_raw)}\")\n",
    "print(\"\\nFirst 5 rows:\")\n",
    "college_df_raw.head()"
   ]
  },
  {
   "cell_type": "markdown",
   "id": "19ef0d03-d993-44f4-bcc8-5c074fc13f41",
   "metadata": {},
   "source": [
    "### Keep only variables of interest"
   ]
  },
  {
   "cell_type": "code",
   "execution_count": 582,
   "id": "1a92c783-8241-4e52-9fa8-c231e973b618",
   "metadata": {},
   "outputs": [
    {
     "data": {
      "text/html": [
       "<div>\n",
       "<style scoped>\n",
       "    .dataframe tbody tr th:only-of-type {\n",
       "        vertical-align: middle;\n",
       "    }\n",
       "\n",
       "    .dataframe tbody tr th {\n",
       "        vertical-align: top;\n",
       "    }\n",
       "\n",
       "    .dataframe thead th {\n",
       "        text-align: right;\n",
       "    }\n",
       "</style>\n",
       "<table border=\"1\" class=\"dataframe\">\n",
       "  <thead>\n",
       "    <tr style=\"text-align: right;\">\n",
       "      <th></th>\n",
       "      <th>INSTNM</th>\n",
       "      <th>STABBR</th>\n",
       "      <th>CONTROL</th>\n",
       "      <th>COSTT4_A</th>\n",
       "      <th>COSTT4_P</th>\n",
       "      <th>NPT4_PUB</th>\n",
       "      <th>NPT4_PRIV</th>\n",
       "      <th>MN_EARN_WNE_P10</th>\n",
       "      <th>DEBT_MDN</th>\n",
       "      <th>GRAD_DEBT_MDN</th>\n",
       "      <th>...</th>\n",
       "      <th>UGDS_HISP</th>\n",
       "      <th>UGDS_ASIAN</th>\n",
       "      <th>UGDS_AIAN</th>\n",
       "      <th>UGDS_NHPI</th>\n",
       "      <th>UGDS_2MOR</th>\n",
       "      <th>UGDS_NRA</th>\n",
       "      <th>UGDS_UNKN</th>\n",
       "      <th>CCUGPROF</th>\n",
       "      <th>MEDIAN_HH_INC</th>\n",
       "      <th>ST_FIPS</th>\n",
       "    </tr>\n",
       "  </thead>\n",
       "  <tbody>\n",
       "    <tr>\n",
       "      <th>0</th>\n",
       "      <td>Alabama A &amp; M University</td>\n",
       "      <td>AL</td>\n",
       "      <td>1</td>\n",
       "      <td>23445.0</td>\n",
       "      <td>NaN</td>\n",
       "      <td>15529.0</td>\n",
       "      <td>NaN</td>\n",
       "      <td>35500</td>\n",
       "      <td>15250</td>\n",
       "      <td>31000</td>\n",
       "      <td>...</td>\n",
       "      <td>0.0116</td>\n",
       "      <td>0.0012</td>\n",
       "      <td>0.0028</td>\n",
       "      <td>0.0008</td>\n",
       "      <td>0.0143</td>\n",
       "      <td>0.0073</td>\n",
       "      <td>0.0440</td>\n",
       "      <td>10.0</td>\n",
       "      <td>49720.22</td>\n",
       "      <td>1</td>\n",
       "    </tr>\n",
       "    <tr>\n",
       "      <th>1</th>\n",
       "      <td>University of Alabama at Birmingham</td>\n",
       "      <td>AL</td>\n",
       "      <td>1</td>\n",
       "      <td>25542.0</td>\n",
       "      <td>NaN</td>\n",
       "      <td>16530.0</td>\n",
       "      <td>NaN</td>\n",
       "      <td>48400</td>\n",
       "      <td>15085</td>\n",
       "      <td>22250</td>\n",
       "      <td>...</td>\n",
       "      <td>0.0610</td>\n",
       "      <td>0.0704</td>\n",
       "      <td>0.0024</td>\n",
       "      <td>0.0004</td>\n",
       "      <td>0.0469</td>\n",
       "      <td>0.0232</td>\n",
       "      <td>0.0059</td>\n",
       "      <td>9.0</td>\n",
       "      <td>55735.22</td>\n",
       "      <td>1</td>\n",
       "    </tr>\n",
       "    <tr>\n",
       "      <th>2</th>\n",
       "      <td>Amridge University</td>\n",
       "      <td>AL</td>\n",
       "      <td>2</td>\n",
       "      <td>20100.0</td>\n",
       "      <td>NaN</td>\n",
       "      <td>NaN</td>\n",
       "      <td>17618.0</td>\n",
       "      <td>47600</td>\n",
       "      <td>10984</td>\n",
       "      <td>31417</td>\n",
       "      <td>...</td>\n",
       "      <td>0.0268</td>\n",
       "      <td>0.0034</td>\n",
       "      <td>0.0000</td>\n",
       "      <td>0.0000</td>\n",
       "      <td>0.0000</td>\n",
       "      <td>0.0000</td>\n",
       "      <td>0.0235</td>\n",
       "      <td>5.0</td>\n",
       "      <td>53683.7</td>\n",
       "      <td>1</td>\n",
       "    </tr>\n",
       "    <tr>\n",
       "      <th>3</th>\n",
       "      <td>University of Alabama in Huntsville</td>\n",
       "      <td>AL</td>\n",
       "      <td>1</td>\n",
       "      <td>24861.0</td>\n",
       "      <td>NaN</td>\n",
       "      <td>17208.0</td>\n",
       "      <td>NaN</td>\n",
       "      <td>52000</td>\n",
       "      <td>14000</td>\n",
       "      <td>21450</td>\n",
       "      <td>...</td>\n",
       "      <td>0.0599</td>\n",
       "      <td>0.0354</td>\n",
       "      <td>0.0083</td>\n",
       "      <td>0.0010</td>\n",
       "      <td>0.0431</td>\n",
       "      <td>0.0190</td>\n",
       "      <td>0.0252</td>\n",
       "      <td>15.0</td>\n",
       "      <td>58688.62</td>\n",
       "      <td>1</td>\n",
       "    </tr>\n",
       "    <tr>\n",
       "      <th>4</th>\n",
       "      <td>Alabama State University</td>\n",
       "      <td>AL</td>\n",
       "      <td>1</td>\n",
       "      <td>21892.0</td>\n",
       "      <td>NaN</td>\n",
       "      <td>19534.0</td>\n",
       "      <td>NaN</td>\n",
       "      <td>30600</td>\n",
       "      <td>17500</td>\n",
       "      <td>31000</td>\n",
       "      <td>...</td>\n",
       "      <td>0.0130</td>\n",
       "      <td>0.0019</td>\n",
       "      <td>0.0017</td>\n",
       "      <td>0.0017</td>\n",
       "      <td>0.0119</td>\n",
       "      <td>0.0155</td>\n",
       "      <td>0.0111</td>\n",
       "      <td>10.0</td>\n",
       "      <td>46065.2</td>\n",
       "      <td>1</td>\n",
       "    </tr>\n",
       "  </tbody>\n",
       "</table>\n",
       "<p>5 rows × 25 columns</p>\n",
       "</div>"
      ],
      "text/plain": [
       "                                INSTNM STABBR  CONTROL  COSTT4_A  COSTT4_P  \\\n",
       "0             Alabama A & M University     AL        1   23445.0       NaN   \n",
       "1  University of Alabama at Birmingham     AL        1   25542.0       NaN   \n",
       "2                   Amridge University     AL        2   20100.0       NaN   \n",
       "3  University of Alabama in Huntsville     AL        1   24861.0       NaN   \n",
       "4             Alabama State University     AL        1   21892.0       NaN   \n",
       "\n",
       "   NPT4_PUB  NPT4_PRIV MN_EARN_WNE_P10 DEBT_MDN GRAD_DEBT_MDN  ... UGDS_HISP  \\\n",
       "0   15529.0        NaN           35500    15250         31000  ...    0.0116   \n",
       "1   16530.0        NaN           48400    15085         22250  ...    0.0610   \n",
       "2       NaN    17618.0           47600    10984         31417  ...    0.0268   \n",
       "3   17208.0        NaN           52000    14000         21450  ...    0.0599   \n",
       "4   19534.0        NaN           30600    17500         31000  ...    0.0130   \n",
       "\n",
       "  UGDS_ASIAN UGDS_AIAN  UGDS_NHPI  UGDS_2MOR  UGDS_NRA  UGDS_UNKN  CCUGPROF  \\\n",
       "0     0.0012    0.0028     0.0008     0.0143    0.0073     0.0440      10.0   \n",
       "1     0.0704    0.0024     0.0004     0.0469    0.0232     0.0059       9.0   \n",
       "2     0.0034    0.0000     0.0000     0.0000    0.0000     0.0235       5.0   \n",
       "3     0.0354    0.0083     0.0010     0.0431    0.0190     0.0252      15.0   \n",
       "4     0.0019    0.0017     0.0017     0.0119    0.0155     0.0111      10.0   \n",
       "\n",
       "   MEDIAN_HH_INC  ST_FIPS  \n",
       "0       49720.22        1  \n",
       "1       55735.22        1  \n",
       "2        53683.7        1  \n",
       "3       58688.62        1  \n",
       "4        46065.2        1  \n",
       "\n",
       "[5 rows x 25 columns]"
      ]
     },
     "execution_count": 582,
     "metadata": {},
     "output_type": "execute_result"
    }
   ],
   "source": [
    "college_df = college_df_raw[['INSTNM', 'STABBR', 'CONTROL', 'COSTT4_A', 'COSTT4_P', \n",
    "                             'NPT4_PUB', 'NPT4_PRIV', 'MN_EARN_WNE_P10', 'DEBT_MDN', \n",
    "                             'GRAD_DEBT_MDN', 'MALE_DEBT_MDN', 'FEMALE_DEBT_MDN', 'MD_FAMINC', \n",
    "                             'UGDS_WHITE', 'UGDS_BLACK', 'UGDS_HISP', 'UGDS_ASIAN', 'UGDS_AIAN', \n",
    "                             'UGDS_NHPI', 'UGDS_2MOR', 'UGDS_NRA', 'UGDS_UNKN', 'CCUGPROF', 'MEDIAN_HH_INC', 'ST_FIPS']]\n",
    "college_df.head()"
   ]
  },
  {
   "cell_type": "code",
   "execution_count": 251,
   "id": "08d593da-f4fb-4a3a-a68f-61407dd4cd7b",
   "metadata": {},
   "outputs": [
    {
     "name": "stdout",
     "output_type": "stream",
     "text": [
      "<class 'pandas.core.frame.DataFrame'>\n",
      "RangeIndex: 6681 entries, 0 to 6680\n",
      "Data columns (total 22 columns):\n",
      " #   Column           Non-Null Count  Dtype  \n",
      "---  ------           --------------  -----  \n",
      " 0   INSTNM           6681 non-null   object \n",
      " 1   STABBR           6681 non-null   object \n",
      " 2   CONTROL          6681 non-null   int64  \n",
      " 3   COSTT4_A         3320 non-null   float64\n",
      " 4   COSTT4_P         2073 non-null   float64\n",
      " 5   NPT4_PUB         1828 non-null   float64\n",
      " 6   NPT4_PRIV        3565 non-null   float64\n",
      " 7   MN_EARN_WNE_P10  5157 non-null   object \n",
      " 8   DEBT_MDN         6358 non-null   object \n",
      " 9   GRAD_DEBT_MDN    6358 non-null   object \n",
      " 10  MALE_DEBT_MDN    6358 non-null   object \n",
      " 11  FEMALE_DEBT_MDN  6358 non-null   object \n",
      " 12  MD_FAMINC        5891 non-null   object \n",
      " 13  UGDS_WHITE       5840 non-null   float64\n",
      " 14  UGDS_BLACK       5840 non-null   float64\n",
      " 15  UGDS_HISP        5840 non-null   float64\n",
      " 16  UGDS_ASIAN       5840 non-null   float64\n",
      " 17  UGDS_AIAN        5840 non-null   float64\n",
      " 18  UGDS_NHPI        5840 non-null   float64\n",
      " 19  UGDS_2MOR        5840 non-null   float64\n",
      " 20  UGDS_NRA         5840 non-null   float64\n",
      " 21  UGDS_UNKN        5840 non-null   float64\n",
      "dtypes: float64(13), int64(1), object(8)\n",
      "memory usage: 1.1+ MB\n"
     ]
    }
   ],
   "source": [
    "college_df.info()"
   ]
  },
  {
   "cell_type": "markdown",
   "id": "9ccfaa4d",
   "metadata": {},
   "source": [
    "## Part B: Data Preparation\n",
    "Changes applied to dataset:\n",
    "* Combine average cost of attendance columns\n",
    "* Combine average net price columns"
   ]
  },
  {
   "cell_type": "markdown",
   "id": "22946f91-f499-45ac-a76b-42bd39cfa952",
   "metadata": {},
   "source": [
    "### Combine average cost of attendence columns"
   ]
  },
  {
   "cell_type": "code",
   "execution_count": 265,
   "id": "eeab0cff",
   "metadata": {},
   "outputs": [],
   "source": [
    "# ignore setting with copy warning\n",
    "pd.options.mode.chained_assignment = None  # default='warn'"
   ]
  },
  {
   "cell_type": "code",
   "execution_count": 266,
   "id": "2f0d1509-005e-451a-b9e3-7f19fa0f3aad",
   "metadata": {},
   "outputs": [
    {
     "name": "stdout",
     "output_type": "stream",
     "text": [
      "<class 'pandas.core.frame.DataFrame'>\n",
      "RangeIndex: 6681 entries, 0 to 6680\n",
      "Data columns (total 21 columns):\n",
      " #   Column           Non-Null Count  Dtype  \n",
      "---  ------           --------------  -----  \n",
      " 0   INSTNM           6681 non-null   object \n",
      " 1   STABBR           6681 non-null   object \n",
      " 2   CONTROL          6681 non-null   int64  \n",
      " 3   NPT4_PUB         1828 non-null   float64\n",
      " 4   NPT4_PRIV        3565 non-null   float64\n",
      " 5   MN_EARN_WNE_P10  5157 non-null   object \n",
      " 6   DEBT_MDN         6358 non-null   object \n",
      " 7   GRAD_DEBT_MDN    6358 non-null   object \n",
      " 8   MALE_DEBT_MDN    6358 non-null   object \n",
      " 9   FEMALE_DEBT_MDN  6358 non-null   object \n",
      " 10  MD_FAMINC        5891 non-null   object \n",
      " 11  UGDS_WHITE       5840 non-null   float64\n",
      " 12  UGDS_BLACK       5840 non-null   float64\n",
      " 13  UGDS_HISP        5840 non-null   float64\n",
      " 14  UGDS_ASIAN       5840 non-null   float64\n",
      " 15  UGDS_AIAN        5840 non-null   float64\n",
      " 16  UGDS_NHPI        5840 non-null   float64\n",
      " 17  UGDS_2MOR        5840 non-null   float64\n",
      " 18  UGDS_NRA         5840 non-null   float64\n",
      " 19  UGDS_UNKN        5840 non-null   float64\n",
      " 20  COSTT4           5393 non-null   float64\n",
      "dtypes: float64(12), int64(1), object(8)\n",
      "memory usage: 1.1+ MB\n"
     ]
    }
   ],
   "source": [
    "college_df['COSTT4'] = college_df.COSTT4_A.combine_first(college_df.COSTT4_P)\n",
    "college_df.drop(['COSTT4_A', 'COSTT4_P'], axis=1, inplace=True)\n",
    "college_df.info()"
   ]
  },
  {
   "cell_type": "markdown",
   "id": "245943fa-73b4-4150-a9d9-32fef7852837",
   "metadata": {},
   "source": [
    "### Combine average net price columns"
   ]
  },
  {
   "cell_type": "code",
   "execution_count": 267,
   "id": "eb91af84-ae67-4690-a558-a60b32ba4534",
   "metadata": {},
   "outputs": [
    {
     "name": "stdout",
     "output_type": "stream",
     "text": [
      "<class 'pandas.core.frame.DataFrame'>\n",
      "RangeIndex: 6681 entries, 0 to 6680\n",
      "Data columns (total 20 columns):\n",
      " #   Column           Non-Null Count  Dtype  \n",
      "---  ------           --------------  -----  \n",
      " 0   INSTNM           6681 non-null   object \n",
      " 1   STABBR           6681 non-null   object \n",
      " 2   CONTROL          6681 non-null   int64  \n",
      " 3   MN_EARN_WNE_P10  5157 non-null   object \n",
      " 4   DEBT_MDN         6358 non-null   object \n",
      " 5   GRAD_DEBT_MDN    6358 non-null   object \n",
      " 6   MALE_DEBT_MDN    6358 non-null   object \n",
      " 7   FEMALE_DEBT_MDN  6358 non-null   object \n",
      " 8   MD_FAMINC        5891 non-null   object \n",
      " 9   UGDS_WHITE       5840 non-null   float64\n",
      " 10  UGDS_BLACK       5840 non-null   float64\n",
      " 11  UGDS_HISP        5840 non-null   float64\n",
      " 12  UGDS_ASIAN       5840 non-null   float64\n",
      " 13  UGDS_AIAN        5840 non-null   float64\n",
      " 14  UGDS_NHPI        5840 non-null   float64\n",
      " 15  UGDS_2MOR        5840 non-null   float64\n",
      " 16  UGDS_NRA         5840 non-null   float64\n",
      " 17  UGDS_UNKN        5840 non-null   float64\n",
      " 18  COSTT4           5393 non-null   float64\n",
      " 19  NPT4             5393 non-null   float64\n",
      "dtypes: float64(11), int64(1), object(8)\n",
      "memory usage: 1.0+ MB\n"
     ]
    }
   ],
   "source": [
    "college_df['NPT4'] = college_df.NPT4_PUB.combine_first(college_df.NPT4_PRIV)\n",
    "college_df.drop(['NPT4_PUB', 'NPT4_PRIV'], axis=1, inplace=True)\n",
    "college_df.info()"
   ]
  },
  {
   "cell_type": "markdown",
   "id": "01814b53",
   "metadata": {},
   "source": [
    "### percentage of null values per column\n"
   ]
  },
  {
   "cell_type": "code",
   "execution_count": 269,
   "id": "a75a5b64",
   "metadata": {},
   "outputs": [
    {
     "data": {
      "text/plain": [
       "INSTNM              0.000000\n",
       "STABBR              0.000000\n",
       "CONTROL             0.000000\n",
       "MN_EARN_WNE_P10    22.810956\n",
       "DEBT_MDN            4.834606\n",
       "GRAD_DEBT_MDN       4.834606\n",
       "MALE_DEBT_MDN       4.834606\n",
       "FEMALE_DEBT_MDN     4.834606\n",
       "MD_FAMINC          11.824577\n",
       "UGDS_WHITE         12.587936\n",
       "UGDS_BLACK         12.587936\n",
       "UGDS_HISP          12.587936\n",
       "UGDS_ASIAN         12.587936\n",
       "UGDS_AIAN          12.587936\n",
       "UGDS_NHPI          12.587936\n",
       "UGDS_2MOR          12.587936\n",
       "UGDS_NRA           12.587936\n",
       "UGDS_UNKN          12.587936\n",
       "COSTT4             19.278551\n",
       "NPT4               19.278551\n",
       "dtype: float64"
      ]
     },
     "execution_count": 269,
     "metadata": {},
     "output_type": "execute_result"
    }
   ],
   "source": [
    "college_df.isnull().sum() * 100 / len(college_df)"
   ]
  },
  {
   "cell_type": "markdown",
   "id": "7a94f29e",
   "metadata": {},
   "source": [
    "# Part C: Data Questions"
   ]
  },
  {
   "cell_type": "markdown",
   "id": "a8207dbf",
   "metadata": {},
   "source": [
    "## Question 1: What is the relationship between the level of student debt and the ownership of the university?"
   ]
  },
  {
   "cell_type": "markdown",
   "id": "7e7fbb73",
   "metadata": {},
   "source": [
    "#### Explore Debt Features\n",
    "Outcomes:\n",
    "* \"PrivacySupressed\" - dropped for this exercise\n",
    "    * 14% for DEBT_MDN\n",
    "    * 20% for GRAD_DEBT_MDN\n",
    "    * 31% for gender debt medians\n",
    "* MALE_DEBT_MDN and FEMALE_DEBT_MDN have the same distribution\n",
    "    * not used for comparison\n",
    "* GRAD_DEBT_MDN used for analysis because..."
   ]
  },
  {
   "cell_type": "code",
   "execution_count": 302,
   "id": "9e21ed23",
   "metadata": {},
   "outputs": [],
   "source": [
    "def print_top_value_counts(col, n=5):\n",
    "    print(f\"Top {n} value counts for {col}:\")\n",
    "    print(college_df[col].value_counts().nlargest(n))"
   ]
  },
  {
   "cell_type": "code",
   "execution_count": 303,
   "id": "d221ee06",
   "metadata": {},
   "outputs": [],
   "source": [
    "def print_percent_privacy_suppressed(col):\n",
    "    print(\"\\nPrivacySuppressed Percentage: {:.2f}%\".format((sum(college_df[col] == \"PrivacySuppressed\") / len(college_df))*100))"
   ]
  },
  {
   "cell_type": "code",
   "execution_count": 374,
   "id": "9c6bae9d",
   "metadata": {},
   "outputs": [],
   "source": [
    "def explore_debt_var(col):\n",
    "    print_top_value_counts(col)\n",
    "    print_percent_privacy_suppressed(col)\n",
    "    \n",
    "    # NOTE: dropped all PrivacySuppressed\n",
    "    tmp_df = college_df[college_df[col] != \"PrivacySuppressed\"].copy()\n",
    "    \n",
    "    # NOTE: Cast to a numeric column\n",
    "    tmp_df[col] = pd.to_numeric(tmp_df[col])\n",
    "    \n",
    "    print(\"Percent Nulls: {:.2f}%\".format((tmp_df[col].isna().sum()/len(tmp_df)*100)))\n",
    "    print(\"Min Value: {:.0f}\".format(min(tmp_df[col])))\n",
    "    print(\"Max Value: {:.0f}\".format(max(tmp_df[col])))\n",
    "    print(\"Mean: {:.0f}\".format(np.mean(tmp_df[col])))\n",
    "    \n",
    "    ax = tmp_df[col].hist()\n",
    "    ax.set_title(f\"{col}: Student Debt Freq Hist\")\n",
    "    ax.set_xlabel(\"Discrete Student Debt by Bin\")\n",
    "    ax.set_ylabel(\"Cumlative Debt in Bin\")"
   ]
  },
  {
   "cell_type": "markdown",
   "id": "9b0e780f",
   "metadata": {},
   "source": [
    "##### Explore DEBT_MDN\n",
    "The median original amount of the loan principal upon entering repayment (int)\n",
    "* 14% of \"PrivacySuppressed\" Dropped"
   ]
  },
  {
   "cell_type": "code",
   "execution_count": 377,
   "id": "7f0fb74b",
   "metadata": {},
   "outputs": [
    {
     "name": "stdout",
     "output_type": "stream",
     "text": [
      "Top 5 value counts for DEBT_MDN:\n",
      "PrivacySuppressed    936\n",
      "9500                 478\n",
      "5500                 271\n",
      "6333                 174\n",
      "12000                146\n",
      "Name: DEBT_MDN, dtype: int64\n",
      "\n",
      "PrivacySuppressed Percentage: 14.01%\n",
      "Percent Nulls: 5.62%\n",
      "Min Value: 1932\n",
      "Max Value: 40824\n",
      "Mean: 11221\n"
     ]
    },
    {
     "data": {
      "image/png": "[encoded data removed]",
      "text/plain": [
       "<Figure size 432x288 with 1 Axes>"
      ]
     },
     "metadata": {
      "needs_background": "light"
     },
     "output_type": "display_data"
    }
   ],
   "source": [
    "explore_debt_var('DEBT_MDN')"
   ]
  },
  {
   "cell_type": "markdown",
   "id": "c31b9939",
   "metadata": {},
   "source": [
    "##### GRAD_DEBT_MDN \n",
    "The median debt for students who have completed (integer)\n",
    "* 20% of \"PrivacySupressed\" Dropped"
   ]
  },
  {
   "cell_type": "code",
   "execution_count": 378,
   "id": "51f4eaab",
   "metadata": {},
   "outputs": [
    {
     "name": "stdout",
     "output_type": "stream",
     "text": [
      "Top 5 value counts for GRAD_DEBT_MDN:\n",
      "PrivacySuppressed    1325\n",
      "9500                  313\n",
      "27000                 215\n",
      "25000                 140\n",
      "6333                  138\n",
      "Name: GRAD_DEBT_MDN, dtype: int64\n",
      "\n",
      "PrivacySuppressed Percentage: 19.83%\n",
      "Percent Nulls: 6.03%\n",
      "Min Value: 2013\n",
      "Max Value: 48148\n",
      "Mean: 16095\n"
     ]
    },
    {
     "data": {
      "image/png": "[encoded data removed]",
      "text/plain": [
       "<Figure size 432x288 with 1 Axes>"
      ]
     },
     "metadata": {
      "needs_background": "light"
     },
     "output_type": "display_data"
    }
   ],
   "source": [
    "explore_debt_var('GRAD_DEBT_MDN')"
   ]
  },
  {
   "cell_type": "markdown",
   "id": "04432b53",
   "metadata": {},
   "source": [
    "##### MALE_DEBT_MDN \n",
    "The median debt for male students (integer)\n",
    "* 31% \"PrivacySuppressed\""
   ]
  },
  {
   "cell_type": "code",
   "execution_count": 379,
   "id": "6eea7f2e",
   "metadata": {},
   "outputs": [
    {
     "name": "stdout",
     "output_type": "stream",
     "text": [
      "Top 5 value counts for MALE_DEBT_MDN:\n",
      "PrivacySuppressed    2051\n",
      "5500                  369\n",
      "9500                  368\n",
      "12000                 109\n",
      "19500                  91\n",
      "Name: MALE_DEBT_MDN, dtype: int64\n",
      "\n",
      "PrivacySuppressed Percentage: 30.70%\n",
      "Percent Nulls: 6.98%\n",
      "Min Value: 1913\n",
      "Max Value: 31270\n",
      "Mean: 11404\n"
     ]
    },
    {
     "data": {
      "image/png": "[encoded data removed]",
      "text/plain": [
       "<Figure size 432x288 with 1 Axes>"
      ]
     },
     "metadata": {
      "needs_background": "light"
     },
     "output_type": "display_data"
    }
   ],
   "source": [
    "explore_debt_var('MALE_DEBT_MDN')"
   ]
  },
  {
   "cell_type": "markdown",
   "id": "862b6e24",
   "metadata": {},
   "source": [
    "##### FEMALE_DEBT_MDN\n",
    "The median debt for female students (integer)\n",
    "* 31% \"PrivacySuppressed\""
   ]
  },
  {
   "cell_type": "code",
   "execution_count": 380,
   "id": "f563136c",
   "metadata": {},
   "outputs": [
    {
     "name": "stdout",
     "output_type": "stream",
     "text": [
      "Top 5 value counts for FEMALE_DEBT_MDN:\n",
      "PrivacySuppressed    2051\n",
      "9500                  392\n",
      "5500                  141\n",
      "15000                 125\n",
      "19500                  96\n",
      "Name: FEMALE_DEBT_MDN, dtype: int64\n",
      "\n",
      "PrivacySuppressed Percentage: 30.70%\n",
      "Percent Nulls: 6.98%\n",
      "Min Value: 1855\n",
      "Max Value: 35000\n",
      "Mean: 12233\n"
     ]
    },
    {
     "data": {
      "image/png": "[encoded data removed]",
      "text/plain": [
       "<Figure size 432x288 with 1 Axes>"
      ]
     },
     "metadata": {
      "needs_background": "light"
     },
     "output_type": "display_data"
    }
   ],
   "source": [
    "explore_debt_var('FEMALE_DEBT_MDN')"
   ]
  },
  {
   "cell_type": "markdown",
   "id": "7771b38e",
   "metadata": {},
   "source": [
    "#### Explore the relationship between ownership and student debt"
   ]
  },
  {
   "cell_type": "code",
   "execution_count": 387,
   "id": "d7aa9ed8",
   "metadata": {},
   "outputs": [],
   "source": [
    "dbt_df = college_df.copy()"
   ]
  },
  {
   "cell_type": "code",
   "execution_count": 388,
   "id": "316047f2",
   "metadata": {},
   "outputs": [],
   "source": [
    "# NOTE: dropped all PrivacySuppressed\n",
    "# NOTE: Cast to a numeric column\n",
    "dbt_df = college_df.copy()\n",
    "dbt_df = dbt_df[dbt_df.GRAD_DEBT_MDN != \"PrivacySuppressed\"]\n",
    "dbt_df['GRAD_DEBT_MDN'] = pd.to_numeric(dbt_df['GRAD_DEBT_MDN'])"
   ]
  },
  {
   "cell_type": "code",
   "execution_count": 407,
   "id": "b60dedf1",
   "metadata": {},
   "outputs": [
    {
     "data": {
      "text/html": [
       "<div>\n",
       "<style scoped>\n",
       "    .dataframe tbody tr th:only-of-type {\n",
       "        vertical-align: middle;\n",
       "    }\n",
       "\n",
       "    .dataframe tbody tr th {\n",
       "        vertical-align: top;\n",
       "    }\n",
       "\n",
       "    .dataframe thead th {\n",
       "        text-align: right;\n",
       "    }\n",
       "</style>\n",
       "<table border=\"1\" class=\"dataframe\">\n",
       "  <thead>\n",
       "    <tr style=\"text-align: right;\">\n",
       "      <th></th>\n",
       "      <th>count</th>\n",
       "      <th>sum</th>\n",
       "    </tr>\n",
       "    <tr>\n",
       "      <th>GRAD_DEBT_MDN</th>\n",
       "      <th></th>\n",
       "      <th></th>\n",
       "    </tr>\n",
       "  </thead>\n",
       "  <tbody>\n",
       "    <tr>\n",
       "      <th>0-10K</th>\n",
       "      <td>1649</td>\n",
       "      <td>13114925.0</td>\n",
       "    </tr>\n",
       "    <tr>\n",
       "      <th>10-20K</th>\n",
       "      <td>1652</td>\n",
       "      <td>23525842.0</td>\n",
       "    </tr>\n",
       "    <tr>\n",
       "      <th>20-30K</th>\n",
       "      <td>1546</td>\n",
       "      <td>37681550.0</td>\n",
       "    </tr>\n",
       "    <tr>\n",
       "      <th>30-40K</th>\n",
       "      <td>98</td>\n",
       "      <td>3130820.0</td>\n",
       "    </tr>\n",
       "  </tbody>\n",
       "</table>\n",
       "</div>"
      ],
      "text/plain": [
       "               count         sum\n",
       "GRAD_DEBT_MDN                   \n",
       "0-10K           1649  13114925.0\n",
       "10-20K          1652  23525842.0\n",
       "20-30K          1546  37681550.0\n",
       "30-40K            98   3130820.0"
      ]
     },
     "execution_count": 407,
     "metadata": {},
     "output_type": "execute_result"
    }
   ],
   "source": [
    "dbt_df.groupby(g, observed=True)['GRAD_DEBT_MDN'].agg(['count','sum'])"
   ]
  },
  {
   "cell_type": "code",
   "execution_count": 410,
   "id": "20ef4737",
   "metadata": {},
   "outputs": [
    {
     "data": {
      "text/html": [
       "<div>\n",
       "<style scoped>\n",
       "    .dataframe tbody tr th:only-of-type {\n",
       "        vertical-align: middle;\n",
       "    }\n",
       "\n",
       "    .dataframe tbody tr th {\n",
       "        vertical-align: top;\n",
       "    }\n",
       "\n",
       "    .dataframe thead th {\n",
       "        text-align: right;\n",
       "    }\n",
       "</style>\n",
       "<table border=\"1\" class=\"dataframe\">\n",
       "  <thead>\n",
       "    <tr style=\"text-align: right;\">\n",
       "      <th></th>\n",
       "      <th>GRAD_DEBT_MDN</th>\n",
       "      <th>count</th>\n",
       "      <th>sum</th>\n",
       "    </tr>\n",
       "  </thead>\n",
       "  <tbody>\n",
       "    <tr>\n",
       "      <th>0</th>\n",
       "      <td>0-10K</td>\n",
       "      <td>1649</td>\n",
       "      <td>13114925.0</td>\n",
       "    </tr>\n",
       "    <tr>\n",
       "      <th>1</th>\n",
       "      <td>10-20K</td>\n",
       "      <td>1652</td>\n",
       "      <td>23525842.0</td>\n",
       "    </tr>\n",
       "    <tr>\n",
       "      <th>2</th>\n",
       "      <td>20-30K</td>\n",
       "      <td>1546</td>\n",
       "      <td>37681550.0</td>\n",
       "    </tr>\n",
       "    <tr>\n",
       "      <th>3</th>\n",
       "      <td>30-40K+</td>\n",
       "      <td>98</td>\n",
       "      <td>3130820.0</td>\n",
       "    </tr>\n",
       "  </tbody>\n",
       "</table>\n",
       "</div>"
      ],
      "text/plain": [
       "  GRAD_DEBT_MDN  count         sum\n",
       "0         0-10K   1649  13114925.0\n",
       "1        10-20K   1652  23525842.0\n",
       "2        20-30K   1546  37681550.0\n",
       "3       30-40K+     98   3130820.0"
      ]
     },
     "execution_count": 410,
     "metadata": {},
     "output_type": "execute_result"
    }
   ],
   "source": [
    "bins = [0, 10001, 20001, 30001, 40001]\n",
    "labels = ['0-10K', '10-20K', '20-30K', '30-40K+']\n",
    "\n",
    "g = pd.cut(dbt_df['GRAD_DEBT_MDN'], \n",
    "           bins = bins, \n",
    "           labels = labels)\n",
    "debt_sum_df = dbt_df.groupby(g, observed=True)['GRAD_DEBT_MDN'].agg(['count','sum']).reset_index()\n",
    "debt_sum_df"
   ]
  },
  {
   "cell_type": "code",
   "execution_count": 409,
   "id": "0c919075",
   "metadata": {},
   "outputs": [
    {
     "data": {
      "image/png": "[encoded data removed]",
      "text/plain": [
       "<Figure size 1120x480 with 1 Axes>"
      ]
     },
     "metadata": {
      "needs_background": "light"
     },
     "output_type": "display_data"
    }
   ],
   "source": [
    "figure(figsize=(14, 6), dpi=80)\n",
    "\n",
    "inst_key = 1\n",
    "\n",
    "x = debt_sum_df['sum']\n",
    "num_bins = len(bins)\n",
    "n, bins, patches = plt.hist(x, num_bins, facecolor='blue', alpha=0.5, weights='')\n",
    "\n",
    "# plt.xticks(labels)\n",
    "\n",
    "plt.ylabel('Debt After Graudation')\n",
    "plt.xlabel('Count of Records');\n",
    "plt.title(f\"Institution Type {inst_key}\")\n",
    "\n",
    "plt.show()"
   ]
  },
  {
   "cell_type": "markdown",
   "id": "3a5e4d1b",
   "metadata": {},
   "source": [
    "#### Final Visual Code"
   ]
  },
  {
   "cell_type": "code",
   "execution_count": 800,
   "id": "413ff1ff",
   "metadata": {},
   "outputs": [],
   "source": [
    "# Rename control with the university type labels\n",
    "control_dict = { 1: 'Public', 2:'Private non-profit', 3:'Private for-profit'}\n",
    "college_df['CONTROL2'] = college_df['CONTROL'].apply(lambda x: control_dict[x])\n",
    "\n",
    "# Classify universities by length of programs\n",
    "\n",
    "'''\n",
    "Legend as per Documentation:\n",
    "-2 = NA\n",
    "0 to 4 (both inclusive) = <2yrs \n",
    "5 to 15 = 4yrs\n",
    "'''\n",
    "\n",
    "bins = [-3, -1, 4, 15]\n",
    "names = ['Not applicable', '<= 2yrs', '4yrs']\n",
    "\n",
    "college_df['LENGTH'] = pd.cut(college_df['CCUGPROF'], bins, labels=names)\n",
    "\n",
    "# Define classification function \n",
    "def custom_class(row):\n",
    "    if (row['CONTROL2'] == 'Public') and (row['LENGTH'] == '<= 2yrs'):\n",
    "        return \"Public (<= 2yrs)\"\n",
    "    elif (row['CONTROL2'] == 'Public') and (row['LENGTH'] == '4yrs'):\n",
    "        return \"Public (4yrs)\"\n",
    "    elif (row['CONTROL2'] == 'Public'):\n",
    "        return np.nan\n",
    "    else:\n",
    "        return row['CONTROL2']\n",
    "    \n",
    "# Create new column equal and apply function\n",
    "college_df['CONTROL3'] = college_df['CONTROL']\n",
    "college_df['CONTROL3'] = college_df.apply(custom_class, axis=1)"
   ]
  },
  {
   "cell_type": "code",
   "execution_count": 497,
   "id": "02e3aace",
   "metadata": {},
   "outputs": [
    {
     "data": {
      "text/plain": [
       "Private for-profit    2358\n",
       "Public                1764\n",
       "Private non-profit    1623\n",
       "Name: CONTROL2, dtype: int64"
      ]
     },
     "execution_count": 497,
     "metadata": {},
     "output_type": "execute_result"
    }
   ],
   "source": [
    "dbt_df['CONTROL2'].value_counts()"
   ]
  },
  {
   "cell_type": "code",
   "execution_count": 496,
   "id": "c6b227c3",
   "metadata": {},
   "outputs": [
    {
     "data": {
      "text/plain": [
       "Private for-profit    2604\n",
       "Private non-profit    1996\n",
       "Public (<= 2yrs)       887\n",
       "Public (4yrs)          718\n",
       "Name: CONTROL3, dtype: int64"
      ]
     },
     "execution_count": 496,
     "metadata": {},
     "output_type": "execute_result"
    }
   ],
   "source": [
    "college_df['CONTROL3'].value_counts()"
   ]
  },
  {
   "cell_type": "code",
   "execution_count": 498,
   "id": "4d46d48d",
   "metadata": {},
   "outputs": [],
   "source": [
    "# NOTE: dropped all PrivacySuppressed\n",
    "# NOTE: Cast to a numeric column\n",
    "col = 'DEBT_MDN'\n",
    "\n",
    "dbt_df = college_df.copy()\n",
    "dbt_df = dbt_df[dbt_df[col] != \"PrivacySuppressed\"]\n",
    "dbt_df[col] = pd.to_numeric(dbt_df[col])"
   ]
  },
  {
   "cell_type": "code",
   "execution_count": 537,
   "id": "d6c3c3c1",
   "metadata": {},
   "outputs": [
    {
     "data": {
      "text/html": [
       "<div>\n",
       "<style scoped>\n",
       "    .dataframe tbody tr th:only-of-type {\n",
       "        vertical-align: middle;\n",
       "    }\n",
       "\n",
       "    .dataframe tbody tr th {\n",
       "        vertical-align: top;\n",
       "    }\n",
       "\n",
       "    .dataframe thead th {\n",
       "        text-align: right;\n",
       "    }\n",
       "</style>\n",
       "<table border=\"1\" class=\"dataframe\">\n",
       "  <thead>\n",
       "    <tr style=\"text-align: right;\">\n",
       "      <th></th>\n",
       "      <th>DEBT_MDN</th>\n",
       "      <th>count</th>\n",
       "      <th>sum</th>\n",
       "    </tr>\n",
       "  </thead>\n",
       "  <tbody>\n",
       "    <tr>\n",
       "      <th>0</th>\n",
       "      <td>(0.0, 5000.0]</td>\n",
       "      <td>309</td>\n",
       "      <td>1284954.0</td>\n",
       "    </tr>\n",
       "    <tr>\n",
       "      <th>1</th>\n",
       "      <td>(5000.0, 10000.0]</td>\n",
       "      <td>2635</td>\n",
       "      <td>20048463.0</td>\n",
       "    </tr>\n",
       "    <tr>\n",
       "      <th>2</th>\n",
       "      <td>(10000.0, 15000.0]</td>\n",
       "      <td>1227</td>\n",
       "      <td>15707862.0</td>\n",
       "    </tr>\n",
       "    <tr>\n",
       "      <th>3</th>\n",
       "      <td>(15000.0, 20000.0]</td>\n",
       "      <td>909</td>\n",
       "      <td>15974216.0</td>\n",
       "    </tr>\n",
       "    <tr>\n",
       "      <th>4</th>\n",
       "      <td>(20000.0, 25000.0]</td>\n",
       "      <td>295</td>\n",
       "      <td>6530799.0</td>\n",
       "    </tr>\n",
       "    <tr>\n",
       "      <th>5</th>\n",
       "      <td>(25000.0, 30000.0]</td>\n",
       "      <td>41</td>\n",
       "      <td>1098318.0</td>\n",
       "    </tr>\n",
       "    <tr>\n",
       "      <th>6</th>\n",
       "      <td>(30000.0, 35000.0]</td>\n",
       "      <td>5</td>\n",
       "      <td>157145.0</td>\n",
       "    </tr>\n",
       "  </tbody>\n",
       "</table>\n",
       "</div>"
      ],
      "text/plain": [
       "             DEBT_MDN  count         sum\n",
       "0       (0.0, 5000.0]    309   1284954.0\n",
       "1   (5000.0, 10000.0]   2635  20048463.0\n",
       "2  (10000.0, 15000.0]   1227  15707862.0\n",
       "3  (15000.0, 20000.0]    909  15974216.0\n",
       "4  (20000.0, 25000.0]    295   6530799.0\n",
       "5  (25000.0, 30000.0]     41   1098318.0\n",
       "6  (30000.0, 35000.0]      5    157145.0"
      ]
     },
     "execution_count": 537,
     "metadata": {},
     "output_type": "execute_result"
    }
   ],
   "source": [
    "bins=np.linspace(start=0, stop=40000, num=9)\n",
    "\n",
    "g = pd.cut(dbt_df['DEBT_MDN'], \n",
    "           bins = bins)\n",
    "debt_sum_df = dbt_df.groupby(g, observed=True)['DEBT_MDN'].agg(['count','sum']).reset_index()\n",
    "debt_sum_df"
   ]
  },
  {
   "cell_type": "code",
   "execution_count": 550,
   "id": "1fea55bb",
   "metadata": {},
   "outputs": [],
   "source": [
    "from matplotlib.ticker import FuncFormatter\n",
    "import matplotlib.pyplot as plt\n",
    "def millions(x, pos):\n",
    "    'The two args are the value and tick position'\n",
    "    return '%1.0fM' % (x * 1e-6)\n",
    "\n",
    "def thousands(x, pos):\n",
    "    'The two args are the value and tick position'\n",
    "    return '%1.0fK' % (x * 1e-3)"
   ]
  },
  {
   "cell_type": "code",
   "execution_count": 572,
   "id": "0c59828e",
   "metadata": {},
   "outputs": [
    {
     "data": {
      "image/png": "[encoded data removed]",
      "text/plain": [
       "<Figure size 1080x216 with 4 Axes>"
      ]
     },
     "metadata": {
      "needs_background": "light"
     },
     "output_type": "display_data"
    }
   ],
   "source": [
    "fig, (ax1, ax2, ax3, ax4) = plt.subplots(1,4, figsize=(15,3), sharey=True)\n",
    "\n",
    "a = dbt_df[dbt_df['CONTROL3'] == 'Public (<= 2yrs)']['DEBT_MDN']\n",
    "b = dbt_df[dbt_df['CONTROL3'] == 'Private for-profit']['DEBT_MDN']\n",
    "c = dbt_df[dbt_df['CONTROL3'] == 'Public (4yrs)']['DEBT_MDN']\n",
    "d = dbt_df[dbt_df['CONTROL3'] == 'Private non-profit']['DEBT_MDN']\n",
    "\n",
    "bins=np.linspace(start=0, stop=40000, num=9)\n",
    "\n",
    "ax1.hist(a, bins, facecolor='cornflowerblue', edgecolor='black', alpha=0.5)\n",
    "ax2.hist(b, bins, facecolor='forestgreen', edgecolor='black', alpha=0.5)\n",
    "ax3.hist(c, bins, facecolor='orange', edgecolor='black', alpha=0.5)\n",
    "ax4.hist(d, bins, facecolor='r', edgecolor='black', alpha=0.5)\n",
    "\n",
    "fig.supxlabel('Median Debt at Repayment ($)', y=-0.1)\n",
    "ax1.set_ylabel('Number of Universities')\n",
    "\n",
    "ax1.set_title('Public (<= 2yrs)')\n",
    "ax1.xaxis.set_major_formatter(FuncFormatter(thousands))\n",
    "ax1.axvline(statistics.median(b.dropna()), color='b', linestyle='--', linewidth=3, dash_capstyle=\"round\")\n",
    "\n",
    "ax2.set_title('Private For-Profit')\n",
    "ax2.xaxis.set_major_formatter(FuncFormatter(thousands))\n",
    "ax2.axvline(statistics.median(c.dropna()), color='b', linestyle='--', linewidth=3, dash_capstyle=\"round\")\n",
    "\n",
    "ax3.set_title('Public (4yrs)')\n",
    "ax3.xaxis.set_major_formatter(FuncFormatter(thousands))\n",
    "ax3.axvline(statistics.median(a.dropna()), color='b', linestyle='--', linewidth=3, dash_capstyle=\"round\")\n",
    "\n",
    "ax4.set_title('Private Non-Profit')\n",
    "ax4.xaxis.set_major_formatter(FuncFormatter(thousands))\n",
    "ax4.axvline(statistics.median(d.dropna()), color='b', linestyle='--', linewidth=3, dash_capstyle=\"round\")\n",
    "\n",
    "fig.suptitle('Median Student Debt by College Type', fontsize=18, y = 1.15)\n",
    "\n",
    "plt.show()"
   ]
  },
  {
   "cell_type": "code",
   "execution_count": 799,
   "id": "a3ab533f",
   "metadata": {},
   "outputs": [
    {
     "data": {
      "image/png": "[encoded data removed]",
      "text/plain": [
       "<Figure size 1080x216 with 4 Axes>"
      ]
     },
     "metadata": {
      "needs_background": "light"
     },
     "output_type": "display_data"
    }
   ],
   "source": [
    "fig, (ax1, ax2, ax3, ax4) = plt.subplots(1,4, figsize=(15,3), sharey=True)\n",
    "\n",
    "a = dbt_df[dbt_df['CONTROL3'] == 'Public (<= 2yrs)']['DEBT_MDN']\n",
    "b = dbt_df[dbt_df['CONTROL3'] == 'Private for-profit']['DEBT_MDN']\n",
    "c = dbt_df[dbt_df['CONTROL3'] == 'Public (4yrs)']['DEBT_MDN']\n",
    "d = dbt_df[dbt_df['CONTROL3'] == 'Private non-profit']['DEBT_MDN']\n",
    "\n",
    "bins=np.linspace(start=0, stop=40000, num=9)\n",
    "\n",
    "ax1.hist(a, bins, facecolor='cornflowerblue', edgecolor='black', alpha=0.5, weights=a)\n",
    "ax2.hist(b, bins, facecolor='forestgreen', edgecolor='black', alpha=0.5, weights=b)\n",
    "ax3.hist(c, bins, facecolor='orange', edgecolor='black', alpha=0.5, weights=c)\n",
    "ax4.hist(d, bins, facecolor='r', edgecolor='black', alpha=0.5, weights=d)\n",
    "\n",
    "fig.supxlabel('Debt Range in USD (Thousands)', y=-0.1)\n",
    "ax1.yaxis.set_major_formatter(FuncFormatter(millions))\n",
    "ax1.set_ylabel('Total Debt At Repayment (Millions)')\n",
    "\n",
    "ax1.set_title('Public (<= 2yrs)')\n",
    "ax1.xaxis.set_major_formatter(FuncFormatter(thousands))\n",
    "ax1.axvline(statistics.median(a.dropna()), color='b', linestyle='--', linewidth=3, dash_capstyle=\"round\", label=\"Median\")\n",
    "ax1.text(statistics.median(a.dropna())+1500, 10500000, \"{:.0f}\".format(statistics.median(a.dropna())), color='b')\n",
    "\n",
    "ax2.set_title('Private For-Profit')\n",
    "ax2.xaxis.set_major_formatter(FuncFormatter(thousands))\n",
    "ax2.axvline(statistics.median(b.dropna()), color='b', linestyle='--', linewidth=3, dash_capstyle=\"round\")\n",
    "ax2.text(statistics.median(b.dropna())+1500, 10500000, \"{:.0f}\".format(statistics.median(b.dropna())), color='b')\n",
    "\n",
    "ax3.set_title('Public (4yrs)')\n",
    "ax3.xaxis.set_major_formatter(FuncFormatter(thousands))\n",
    "ax3.axvline(statistics.median(c.dropna()), color='b', linestyle='--', linewidth=3, dash_capstyle=\"round\")\n",
    "ax3.text(statistics.median(c.dropna())+1500, 10500000, \"{:.0f}\".format(statistics.median(c.dropna())), color='b')\n",
    "\n",
    "ax4.set_title('Private Non-Profit')\n",
    "ax4.xaxis.set_major_formatter(FuncFormatter(thousands))\n",
    "ax4.axvline(statistics.median(d.dropna()), color='b', linestyle='--', linewidth=3, dash_capstyle=\"round\")\n",
    "ax4.text(statistics.median(d.dropna())+1500, 10500000, \"{:.0f}\".format(statistics.median(d.dropna())), color='b')\n",
    "\n",
    "fig.suptitle('Student Debt by College Type', fontsize=18, y = 1.15)\n",
    "fig.legend()\n",
    "\n",
    "plt.show()"
   ]
  },
  {
   "cell_type": "markdown",
   "id": "3ff6f043",
   "metadata": {},
   "source": [
    "## Question 2: In which states students have the highest level of debt relative to household income?"
   ]
  },
  {
   "cell_type": "markdown",
   "id": "052ac899",
   "metadata": {},
   "source": [
    "#### Explore Household Income and State Features\n",
    "Outcomes:\n"
   ]
  },
  {
   "cell_type": "code",
   "execution_count": 579,
   "id": "43c5415e",
   "metadata": {},
   "outputs": [
    {
     "data": {
      "text/plain": [
       "PrivacySuppressed    85\n",
       "55699.66             13\n",
       "20501.04             11\n",
       "19509.99             11\n",
       "55670.96             11\n",
       "Name: MEDIAN_HH_INC, dtype: int64"
      ]
     },
     "execution_count": 579,
     "metadata": {},
     "output_type": "execute_result"
    }
   ],
   "source": [
    "college_df['MEDIAN_HH_INC'].value_counts().nlargest(5)"
   ]
  },
  {
   "cell_type": "code",
   "execution_count": 578,
   "id": "bfc28bc4",
   "metadata": {},
   "outputs": [
    {
     "data": {
      "text/plain": [
       "55699.66    13\n",
       "55670.96    11\n",
       "20501.04    11\n",
       "19509.99    11\n",
       "59572.48     8\n",
       "            ..\n",
       "83951.71     1\n",
       "51707.55     1\n",
       "68483.81     1\n",
       "51940.24     1\n",
       "58543.84     1\n",
       "Name: MEDIAN_HH_INC, Length: 4079, dtype: int64"
      ]
     },
     "execution_count": 578,
     "metadata": {},
     "output_type": "execute_result"
    }
   ],
   "source": [
    "# NOTE: dropped all PrivacySuppressed\n",
    "# NOTE: Cast to a numeric column\n",
    "col = 'MEDIAN_HH_INC'\n",
    "\n",
    "dbt_df2 = college_df.copy()\n",
    "dbt_df2 = dbt_df2[dbt_df2[col] != \"PrivacySuppressed\"]\n",
    "dbt_df2[col] = pd.to_numeric(dbt_df2[col])\n",
    "dbt_df2[col].value_counts()"
   ]
  },
  {
   "cell_type": "code",
   "execution_count": 584,
   "id": "54e6ae2b",
   "metadata": {},
   "outputs": [
    {
     "data": {
      "text/plain": [
       "CA    714\n",
       "NY    450\n",
       "TX    429\n",
       "FL    395\n",
       "PA    346\n",
       "Name: STABBR, dtype: int64"
      ]
     },
     "execution_count": 584,
     "metadata": {},
     "output_type": "execute_result"
    }
   ],
   "source": [
    "college_df['STABBR'].value_counts().nlargest(5)"
   ]
  },
  {
   "cell_type": "code",
   "execution_count": null,
   "id": "e186a453",
   "metadata": {},
   "outputs": [],
   "source": []
  },
  {
   "cell_type": "markdown",
   "id": "98443e4c",
   "metadata": {},
   "source": [
    "#### Data Prep: Household Income to Debt Ratio"
   ]
  },
  {
   "cell_type": "code",
   "execution_count": 590,
   "id": "ada0468e",
   "metadata": {},
   "outputs": [
    {
     "data": {
      "text/plain": [
       "9500.0     477\n",
       "5500.0     271\n",
       "6333.0     174\n",
       "12000.0    146\n",
       "19500.0    107\n",
       "Name: DEBT_MDN, dtype: int64"
      ]
     },
     "execution_count": 590,
     "metadata": {},
     "output_type": "execute_result"
    }
   ],
   "source": [
    "# NOTE: dropped all PrivacySuppressed\n",
    "# NOTE: Cast to a numeric column\n",
    "col = 'DEBT_MDN'\n",
    "\n",
    "dbt_df2 = dbt_df2[dbt_df2[col] != \"PrivacySuppressed\"]\n",
    "dbt_df2[col] = pd.to_numeric(dbt_df2[col])\n",
    "dbt_df2[col].value_counts().nlargest(5)"
   ]
  },
  {
   "cell_type": "code",
   "execution_count": 597,
   "id": "d9ea013c",
   "metadata": {},
   "outputs": [],
   "source": [
    "dbt_df2['income_to_debt'] = dbt_df2['MEDIAN_HH_INC'] / dbt_df2['DEBT_MDN']"
   ]
  },
  {
   "cell_type": "markdown",
   "id": "4f3f3710",
   "metadata": {},
   "source": [
    "#### Explore states have the highest level of debt relative to household income"
   ]
  },
  {
   "cell_type": "code",
   "execution_count": 600,
   "id": "d58f5c83",
   "metadata": {},
   "outputs": [
    {
     "data": {
      "text/plain": [
       "Text(0, 0.5, 'Count')"
      ]
     },
     "execution_count": 600,
     "metadata": {},
     "output_type": "execute_result"
    },
    {
     "data": {
      "image/png": "[encoded data removed]",
      "text/plain": [
       "<Figure size 432x288 with 1 Axes>"
      ]
     },
     "metadata": {
      "needs_background": "light"
     },
     "output_type": "display_data"
    }
   ],
   "source": [
    "ax = dbt_df2['income_to_debt'].hist()\n",
    "ax.set_title(f\"Income to Debt Ratio Hist\")\n",
    "ax.set_xlabel(\"Ratio\")\n",
    "ax.set_ylabel(\"Count\")"
   ]
  },
  {
   "cell_type": "code",
   "execution_count": 605,
   "id": "9ea94db3",
   "metadata": {},
   "outputs": [
    {
     "data": {
      "text/plain": [
       "Text(0, 0.5, 'Total Income')"
      ]
     },
     "execution_count": 605,
     "metadata": {},
     "output_type": "execute_result"
    },
    {
     "data": {
      "image/png": "[encoded data removed]",
      "text/plain": [
       "<Figure size 432x288 with 1 Axes>"
      ]
     },
     "metadata": {
      "needs_background": "light"
     },
     "output_type": "display_data"
    }
   ],
   "source": [
    "ax = dbt_df2[['DEBT_MDN', 'STABBR']].groupby('STABBR').sum().nlargest(20, 'DEBT_MDN').plot.bar()\n",
    "ax.set_title(f\"Highest Debt By State\")\n",
    "ax.set_xlabel(\"States\")\n",
    "ax.set_ylabel(\"Total Income\")"
   ]
  },
  {
   "cell_type": "code",
   "execution_count": 608,
   "id": "ca59e83c",
   "metadata": {},
   "outputs": [
    {
     "data": {
      "text/plain": [
       "Text(0, 0.5, 'Total Debt')"
      ]
     },
     "execution_count": 608,
     "metadata": {},
     "output_type": "execute_result"
    },
    {
     "data": {
      "image/png": "[encoded data removed]",
      "text/plain": [
       "<Figure size 432x288 with 1 Axes>"
      ]
     },
     "metadata": {
      "needs_background": "light"
     },
     "output_type": "display_data"
    }
   ],
   "source": [
    "ax = dbt_df2[['MEDIAN_HH_INC', 'STABBR']].groupby('STABBR').sum().nlargest(20, 'MEDIAN_HH_INC').plot.bar()\n",
    "ax.set_title(f\"Highest Income By State\")\n",
    "ax.set_xlabel(\"States\")\n",
    "ax.set_ylabel(\"Total Debt\")"
   ]
  },
  {
   "cell_type": "code",
   "execution_count": 607,
   "id": "fd1bd640",
   "metadata": {},
   "outputs": [
    {
     "data": {
      "text/plain": [
       "Text(0, 0.5, 'Total Income to Debt Ratio')"
      ]
     },
     "execution_count": 607,
     "metadata": {},
     "output_type": "execute_result"
    },
    {
     "data": {
      "image/png": "[encoded data removed]",
      "text/plain": [
       "<Figure size 432x288 with 1 Axes>"
      ]
     },
     "metadata": {
      "needs_background": "light"
     },
     "output_type": "display_data"
    }
   ],
   "source": [
    "ax = dbt_df2[['income_to_debt', 'STABBR']].groupby('STABBR').sum().nlargest(20, 'income_to_debt').plot.bar()\n",
    "ax.set_title(f\"Highest Median Income to Debt Ratios By State\")\n",
    "ax.set_xlabel(\"States\")\n",
    "ax.set_ylabel(\"Total Income to Debt Ratio\")"
   ]
  },
  {
   "cell_type": "code",
   "execution_count": 717,
   "id": "228c24cc",
   "metadata": {},
   "outputs": [
    {
     "data": {
      "text/html": [
       "<div>\n",
       "<style scoped>\n",
       "    .dataframe tbody tr th:only-of-type {\n",
       "        vertical-align: middle;\n",
       "    }\n",
       "\n",
       "    .dataframe tbody tr th {\n",
       "        vertical-align: top;\n",
       "    }\n",
       "\n",
       "    .dataframe thead th {\n",
       "        text-align: right;\n",
       "    }\n",
       "</style>\n",
       "<table border=\"1\" class=\"dataframe\">\n",
       "  <thead>\n",
       "    <tr style=\"text-align: right;\">\n",
       "      <th></th>\n",
       "      <th>MEDIAN_HH_INC</th>\n",
       "      <th>DEBT_MDN</th>\n",
       "      <th>income_to_debt</th>\n",
       "    </tr>\n",
       "    <tr>\n",
       "      <th>STABBR</th>\n",
       "      <th></th>\n",
       "      <th></th>\n",
       "      <th></th>\n",
       "    </tr>\n",
       "  </thead>\n",
       "  <tbody>\n",
       "    <tr>\n",
       "      <th>NV</th>\n",
       "      <td>972348.19</td>\n",
       "      <td>355135.0</td>\n",
       "      <td>2.737968</td>\n",
       "    </tr>\n",
       "    <tr>\n",
       "      <th>FL</th>\n",
       "      <td>8790024.84</td>\n",
       "      <td>3186469.0</td>\n",
       "      <td>2.758547</td>\n",
       "    </tr>\n",
       "    <tr>\n",
       "      <th>IN</th>\n",
       "      <td>4125689.42</td>\n",
       "      <td>1480028.0</td>\n",
       "      <td>2.787575</td>\n",
       "    </tr>\n",
       "    <tr>\n",
       "      <th>PR</th>\n",
       "      <td>1253201.77</td>\n",
       "      <td>449082.0</td>\n",
       "      <td>2.790586</td>\n",
       "    </tr>\n",
       "    <tr>\n",
       "      <th>AL</th>\n",
       "      <td>2555435.66</td>\n",
       "      <td>896509.0</td>\n",
       "      <td>2.850429</td>\n",
       "    </tr>\n",
       "    <tr>\n",
       "      <th>LA</th>\n",
       "      <td>3429649.61</td>\n",
       "      <td>1091880.0</td>\n",
       "      <td>3.141050</td>\n",
       "    </tr>\n",
       "    <tr>\n",
       "      <th>TN</th>\n",
       "      <td>3776461.81</td>\n",
       "      <td>1183145.0</td>\n",
       "      <td>3.191884</td>\n",
       "    </tr>\n",
       "  </tbody>\n",
       "</table>\n",
       "</div>"
      ],
      "text/plain": [
       "        MEDIAN_HH_INC   DEBT_MDN  income_to_debt\n",
       "STABBR                                          \n",
       "NV          972348.19   355135.0        2.737968\n",
       "FL         8790024.84  3186469.0        2.758547\n",
       "IN         4125689.42  1480028.0        2.787575\n",
       "PR         1253201.77   449082.0        2.790586\n",
       "AL         2555435.66   896509.0        2.850429\n",
       "LA         3429649.61  1091880.0        3.141050\n",
       "TN         3776461.81  1183145.0        3.191884"
      ]
     },
     "execution_count": 717,
     "metadata": {},
     "output_type": "execute_result"
    }
   ],
   "source": [
    "df2 = dbt_df2[['MEDIAN_HH_INC', 'STABBR']].groupby('STABBR').sum()\n",
    "df3 = dbt_df2[['DEBT_MDN', 'STABBR']].groupby('STABBR').sum()\n",
    "state_df = pd.merge(df2, df3, left_on='STABBR', right_on='STABBR', how='outer')\n",
    "state_df['income_to_debt'] = state_df['MEDIAN_HH_INC'] / state_df['DEBT_MDN']\n",
    "state_df = state_df.sort_values(['income_to_debt'], ascending=True) \\\n",
    "#    .rename(columns={'cand_nm':'Canidate Name', 'sum':'Donation Total', 'count': 'Donation Count', 'mean': 'Donation Average'})\n",
    "state_df.head(7)"
   ]
  },
  {
   "cell_type": "code",
   "execution_count": 718,
   "id": "c093c1a1",
   "metadata": {},
   "outputs": [],
   "source": [
    "state_df = state_df.head(7)"
   ]
  },
  {
   "cell_type": "code",
   "execution_count": 719,
   "id": "6fcd4ea3",
   "metadata": {},
   "outputs": [
    {
     "data": {
      "image/png": "[encoded data removed]",
      "text/plain": [
       "<Figure size 1120x800 with 1 Axes>"
      ]
     },
     "metadata": {
      "needs_background": "light"
     },
     "output_type": "display_data"
    }
   ],
   "source": [
    "fig = figure(figsize=(14, 10), dpi=80)\n",
    "ax = fig.add_subplot(111)\n",
    "\n",
    "X = state_df.index\n",
    "Yinc = state_df['MEDIAN_HH_INC']\n",
    "Zdebt = state_df['DEBT_MDN']\n",
    "  \n",
    "X_axis = np.arange(len(X))\n",
    "  \n",
    "plt.bar(X_axis - 0.2, Yinc, 0.4, label = 'Median HH Income')\n",
    "plt.bar(X_axis + 0.2, Zdebt, 0.4, label = 'Median Debt')\n",
    "\n",
    "for i, state in enumerate(X):\n",
    "    plt.text(i-0.1, Yinc[i]+100000, \"{:.0f}:1\".format(state_df.loc[state]['income_to_debt']))\n",
    "\n",
    "plt.xticks(np.arange(len(X)), X)\n",
    "ax.yaxis.set_major_formatter(FuncFormatter(millions))\n",
    "\n",
    "plt.xlabel(\"States\")\n",
    "plt.ylabel(\"Sum of Medians (USD in Millions)\")\n",
    "plt.title(\"Lowest Median HH Income to Debt by State\")\n",
    "plt.legend()\n",
    "plt.show()"
   ]
  },
  {
   "cell_type": "code",
   "execution_count": 744,
   "id": "6ebaee6f",
   "metadata": {},
   "outputs": [
    {
     "data": {
      "text/html": [
       "<div>\n",
       "<style scoped>\n",
       "    .dataframe tbody tr th:only-of-type {\n",
       "        vertical-align: middle;\n",
       "    }\n",
       "\n",
       "    .dataframe tbody tr th {\n",
       "        vertical-align: top;\n",
       "    }\n",
       "\n",
       "    .dataframe thead th {\n",
       "        text-align: right;\n",
       "    }\n",
       "</style>\n",
       "<table border=\"1\" class=\"dataframe\">\n",
       "  <thead>\n",
       "    <tr style=\"text-align: right;\">\n",
       "      <th></th>\n",
       "      <th>MEDIAN_HH_INC</th>\n",
       "      <th>DEBT_MDN</th>\n",
       "      <th>debt_to_income_perc</th>\n",
       "    </tr>\n",
       "    <tr>\n",
       "      <th>STABBR</th>\n",
       "      <th></th>\n",
       "      <th></th>\n",
       "      <th></th>\n",
       "    </tr>\n",
       "  </thead>\n",
       "  <tbody>\n",
       "    <tr>\n",
       "      <th>NV</th>\n",
       "      <td>972348.19</td>\n",
       "      <td>355135.0</td>\n",
       "      <td>36.523439</td>\n",
       "    </tr>\n",
       "    <tr>\n",
       "      <th>FL</th>\n",
       "      <td>8790024.84</td>\n",
       "      <td>3186469.0</td>\n",
       "      <td>36.250967</td>\n",
       "    </tr>\n",
       "    <tr>\n",
       "      <th>IN</th>\n",
       "      <td>4125689.42</td>\n",
       "      <td>1480028.0</td>\n",
       "      <td>35.873471</td>\n",
       "    </tr>\n",
       "    <tr>\n",
       "      <th>PR</th>\n",
       "      <td>1253201.77</td>\n",
       "      <td>449082.0</td>\n",
       "      <td>35.834772</td>\n",
       "    </tr>\n",
       "    <tr>\n",
       "      <th>AL</th>\n",
       "      <td>2555435.66</td>\n",
       "      <td>896509.0</td>\n",
       "      <td>35.082433</td>\n",
       "    </tr>\n",
       "    <tr>\n",
       "      <th>LA</th>\n",
       "      <td>3429649.61</td>\n",
       "      <td>1091880.0</td>\n",
       "      <td>31.836488</td>\n",
       "    </tr>\n",
       "    <tr>\n",
       "      <th>TN</th>\n",
       "      <td>3776461.81</td>\n",
       "      <td>1183145.0</td>\n",
       "      <td>31.329458</td>\n",
       "    </tr>\n",
       "  </tbody>\n",
       "</table>\n",
       "</div>"
      ],
      "text/plain": [
       "        MEDIAN_HH_INC   DEBT_MDN  debt_to_income_perc\n",
       "STABBR                                               \n",
       "NV          972348.19   355135.0            36.523439\n",
       "FL         8790024.84  3186469.0            36.250967\n",
       "IN         4125689.42  1480028.0            35.873471\n",
       "PR         1253201.77   449082.0            35.834772\n",
       "AL         2555435.66   896509.0            35.082433\n",
       "LA         3429649.61  1091880.0            31.836488\n",
       "TN         3776461.81  1183145.0            31.329458"
      ]
     },
     "execution_count": 744,
     "metadata": {},
     "output_type": "execute_result"
    }
   ],
   "source": [
    "df2 = dbt_df2[['MEDIAN_HH_INC', 'STABBR']].groupby('STABBR').sum()\n",
    "df3 = dbt_df2[['DEBT_MDN', 'STABBR']].groupby('STABBR').sum()\n",
    "state_df = pd.merge(df2, df3, left_on='STABBR', right_on='STABBR', how='outer')\n",
    "state_df['debt_to_income_perc'] = (state_df['DEBT_MDN'] / state_df['MEDIAN_HH_INC']) * 100\n",
    "state_df = state_df.sort_values(['debt_to_income_perc'], ascending=False) \\\n",
    "#    .rename(columns={'cand_nm':'Canidate Name', 'sum':'Donation Total', 'count': 'Donation Count', 'mean': 'Donation Average'})\n",
    "state_df.head(7)"
   ]
  },
  {
   "cell_type": "code",
   "execution_count": 792,
   "id": "7ac2a20b",
   "metadata": {},
   "outputs": [
    {
     "data": {
      "image/png": "[encoded data removed]",
      "text/plain": [
       "<Figure size 560x400 with 1 Axes>"
      ]
     },
     "metadata": {
      "needs_background": "light"
     },
     "output_type": "display_data"
    }
   ],
   "source": [
    "state_df = state_df.head(7)\n",
    "\n",
    "fig = figure(figsize=(7, 5), dpi=80)\n",
    "ax = fig.add_subplot(111)\n",
    "\n",
    "X = state_df.index\n",
    "Yinc = state_df['MEDIAN_HH_INC']\n",
    "Zdebt = state_df['DEBT_MDN']\n",
    "  \n",
    "X_axis = np.arange(len(X))\n",
    "  \n",
    "plt.bar(X_axis - 0.2, Yinc, 0.4, label = 'Median HH Income')\n",
    "plt.bar(X_axis + 0.2, Zdebt, 0.4, label = 'Median Debt')\n",
    "\n",
    "for i, state in enumerate(X):\n",
    "    plt.text(i+0.01, Zdebt[i]+100000, \"{:.0f}%\".format(state_df.loc[state]['debt_to_income_perc']))\n",
    "\n",
    "plt.xticks(np.arange(len(X)), X)\n",
    "ax.yaxis.set_major_formatter(FuncFormatter(millions))\n",
    "\n",
    "plt.xlabel(\"States\")\n",
    "plt.ylabel(\"Sum of Medians (USD in Millions)\")\n",
    "plt.title(\"Highest Median Debt to Income by State\")\n",
    "plt.legend()\n",
    "plt.show()"
   ]
  }
 ],
 "metadata": {
  "kernelspec": {
   "display_name": "Python 3",
   "language": "python",
   "name": "python3"
  },
  "language_info": {
   "codemirror_mode": {
    "name": "ipython",
    "version": 3
   },
   "file_extension": ".py",
   "mimetype": "text/x-python",
   "name": "python",
   "nbconvert_exporter": "python",
   "pygments_lexer": "ipython3",
   "version": "3.8.8"
  }
 },
 "nbformat": 4,
 "nbformat_minor": 5
}
